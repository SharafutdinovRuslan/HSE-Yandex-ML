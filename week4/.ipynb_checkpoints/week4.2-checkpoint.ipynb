{
 "cells": [
  {
   "cell_type": "code",
   "execution_count": 49,
   "metadata": {},
   "outputs": [],
   "source": [
    "import pandas as pd \n",
    "from sklearn.decomposition import PCA\n",
    "from itertools import accumulate, takewhile\n",
    "from numpy import corrcoef, transpose"
   ]
  },
  {
   "cell_type": "code",
   "execution_count": 35,
   "metadata": {},
   "outputs": [],
   "source": [
    "djia_index = pd.read_csv('djia_index.csv')\n",
    "close_prices = pd.read_csv('close_prices.csv')"
   ]
  },
  {
   "cell_type": "code",
   "execution_count": 19,
   "metadata": {},
   "outputs": [
    {
     "data": {
      "text/plain": [
       "PCA(copy=True, iterated_power='auto', n_components=10, random_state=None,\n",
       "  svd_solver='auto', tol=0.0, whiten=False)"
      ]
     },
     "execution_count": 19,
     "metadata": {},
     "output_type": "execute_result"
    }
   ],
   "source": [
    "pca = PCA(n_components=10)\n",
    "pca.fit(close_prices.drop('date', axis=1))"
   ]
  },
  {
   "cell_type": "code",
   "execution_count": 73,
   "metadata": {},
   "outputs": [],
   "source": [
    "# Скольких компонент хватит, чтобы объяснить 90% дисперсии?\n",
    "len(list(takewhile(lambda x: x < 0.9, list(accumulate(pca.explained_variance_ratio_))))) + 1\n",
    "\n",
    "# Запись ответа\n",
    "output1 = open('week4_2_1.txt', 'w')\n",
    "print(\n",
    "    len(list(takewhile(lambda x: x < 0.9, list(accumulate(pca.explained_variance_ratio_))))) + 1,\n",
    "    file=output1, \n",
    "    end=''\n",
    ")\n",
    "output1.close()"
   ]
  },
  {
   "cell_type": "code",
   "execution_count": 74,
   "metadata": {},
   "outputs": [
    {
     "data": {
      "text/plain": [
       "PCA(copy=True, iterated_power='auto', n_components=10, random_state=None,\n",
       "  svd_solver='auto', tol=0.0, whiten=False)"
      ]
     },
     "execution_count": 74,
     "metadata": {},
     "output_type": "execute_result"
    }
   ],
   "source": [
    "pca.fit(close_prices.drop('date', axis=1))"
   ]
  },
  {
   "cell_type": "code",
   "execution_count": 77,
   "metadata": {},
   "outputs": [],
   "source": [
    "# Чему равна корреляция Пирсона между первой компонентой и индексом Доу-Джонса?\n",
    "\n",
    "# Запись ответа\n",
    "output1 = open('week4_2_2.txt', 'w')\n",
    "print(\n",
    "    round(corrcoef(transpose(pca.transform(close_prices.drop('date', axis=1)))[0], djia_index['^DJI'])[0][1], 2),\n",
    "    file=output1, \n",
    "    end=''\n",
    ")\n",
    "output1.close()"
   ]
  },
  {
   "cell_type": "code",
   "execution_count": 78,
   "metadata": {},
   "outputs": [],
   "source": [
    "# Какая компания имеет наибольший вес в первой компоненте? Укажите ее название с большой буквы\n",
    "\n",
    "# Запись ответа\n",
    "output1 = open('week4_2_3.txt', 'w')\n",
    "print(\n",
    "    close_prices.columns[list(pca.components_[0]).index(max(pca.components_[0]))+1],\n",
    "    file=output1, \n",
    "    end=''\n",
    ")\n",
    "output1.close()"
   ]
  },
  {
   "cell_type": "code",
   "execution_count": null,
   "metadata": {},
   "outputs": [],
   "source": []
  }
 ],
 "metadata": {
  "kernelspec": {
   "display_name": "Python 3",
   "language": "python",
   "name": "python3"
  },
  "language_info": {
   "codemirror_mode": {
    "name": "ipython",
    "version": 3
   },
   "file_extension": ".py",
   "mimetype": "text/x-python",
   "name": "python",
   "nbconvert_exporter": "python",
   "pygments_lexer": "ipython3",
   "version": "3.6.5"
  }
 },
 "nbformat": 4,
 "nbformat_minor": 2
}
