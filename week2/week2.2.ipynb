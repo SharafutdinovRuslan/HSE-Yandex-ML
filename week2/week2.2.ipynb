{
 "cells": [
  {
   "cell_type": "code",
   "execution_count": 32,
   "metadata": {},
   "outputs": [],
   "source": [
    "import pandas as pd\n",
    "import numpy as np\n",
    "from sklearn.model_selection import KFold, cross_val_score\n",
    "from sklearn.neighbors import KNeighborsRegressor\n",
    "from sklearn.preprocessing import scale\n",
    "import matplotlib.pyplot as plt\n",
    "import sklearn.datasets\n",
    "import warnings\n",
    "\n",
    "\n",
    "warnings.filterwarnings('ignore')"
   ]
  },
  {
   "cell_type": "code",
   "execution_count": 33,
   "metadata": {},
   "outputs": [],
   "source": [
    "DataSet = sklearn.datasets.load_boston()\n",
    "X = pd.DataFrame(scale(DataSet.data, axis=1), columns=DataSet.feature_names)\n",
    "target = pd.DataFrame(DataSet.target, columns=['target'])"
   ]
  },
  {
   "cell_type": "code",
   "execution_count": 44,
   "metadata": {},
   "outputs": [],
   "source": [
    "def myFunc(X, target, h = np.linspace(1., 10., 10)):\n",
    "    outDict = dict()\n",
    "    kf = KFold(n_splits=5, shuffle=True, random_state=42)\n",
    "    for i in h:\n",
    "        KNR = KNeighborsRegressor(n_neighbors=5, weights='distance', p=i)\n",
    "        cvs = cross_val_score(KNR, X, target, cv=kf, scoring='mean_squared_error')\n",
    "        outDict[i] = cvs.mean()\n",
    "    return outDict"
   ]
  },
  {
   "cell_type": "code",
   "execution_count": 49,
   "metadata": {},
   "outputs": [
    {
     "data": {
      "image/png": "[encoded data removed]",
      "text/plain": [
       "<Figure size 432x288 with 1 Axes>"
      ]
     },
     "metadata": {},
     "output_type": "display_data"
    },
    {
     "name": "stdout",
     "output_type": "stream",
     "text": [
      "Max Accuracy =  -31.303499079067507\n",
      "Optimum P Value =  1.0452261306532664\n"
     ]
    }
   ],
   "source": [
    "h = np.linspace(1., 10., 200)\n",
    "a = myFunc(X, target, h)\n",
    "\n",
    "# График\n",
    "plt.plot(list(a.keys()), list(a.values()))\n",
    "plt.ylabel('Mean accuracy')\n",
    "plt.xlabel('Neighbors Number')\n",
    "plt.show()\n",
    "\n",
    "print('Max Accuracy = ', max(list(a.values())))\n",
    "print('Optimum P Value = ', list(a.keys())[list(a.values()).index(max(list(a.values())))])\n",
    "\n",
    "# Запись ответа\n",
    "output1 = open('week2.2_1qw.txt', 'w')\n",
    "print(\n",
    "    round(list(a.keys())[list(a.values()).index(max(list(a.values())))], 2),\n",
    "    file=output1, \n",
    "    end='', \n",
    "    sep=' '\n",
    ")\n",
    "output1.close()"
   ]
  },
  {
   "cell_type": "code",
   "execution_count": null,
   "metadata": {},
   "outputs": [],
   "source": []
  }
 ],
 "metadata": {
  "kernelspec": {
   "display_name": "Python 3",
   "language": "python",
   "name": "python3"
  },
  "language_info": {
   "codemirror_mode": {
    "name": "ipython",
    "version": 3
   },
   "file_extension": ".py",
   "mimetype": "text/x-python",
   "name": "python",
   "nbconvert_exporter": "python",
   "pygments_lexer": "ipython3",
   "version": "3.6.5"
  }
 },
 "nbformat": 4,
 "nbformat_minor": 2
}
