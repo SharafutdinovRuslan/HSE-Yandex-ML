{
 "cells": [
  {
   "cell_type": "code",
   "execution_count": 1,
   "metadata": {},
   "outputs": [],
   "source": [
    "import warnings\n",
    "warnings.filterwarnings('ignore')"
   ]
  },
  {
   "cell_type": "code",
   "execution_count": 2,
   "metadata": {},
   "outputs": [],
   "source": [
    "import pandas as pd\n",
    "import numpy as np\n",
    "import math\n",
    "import time\n",
    "import datetime\n",
    "from sklearn.ensemble import GradientBoostingClassifier\n",
    "from sklearn.linear_model import LogisticRegression\n",
    "from sklearn.metrics import roc_auc_score\n",
    "from sklearn.model_selection import StratifiedKFold\n",
    "from sklearn.preprocessing import StandardScaler\n",
    "from tqdm import tqdm_notebook as tqdm\n",
    "\n",
    "import matplotlib.pyplot as plt\n",
    "import seaborn as sns\n",
    "\n",
    "%matplotlib inline"
   ]
  },
  {
   "cell_type": "code",
   "execution_count": 3,
   "metadata": {},
   "outputs": [],
   "source": [
    "data = pd.read_csv('features.csv', index_col='match_id')"
   ]
  },
  {
   "cell_type": "code",
   "execution_count": 4,
   "metadata": {},
   "outputs": [
    {
     "data": {
      "text/html": [
       "<div>\n",
       "<style scoped>\n",
       "    .dataframe tbody tr th:only-of-type {\n",
       "        vertical-align: middle;\n",
       "    }\n",
       "\n",
       "    .dataframe tbody tr th {\n",
       "        vertical-align: top;\n",
       "    }\n",
       "\n",
       "    .dataframe thead th {\n",
       "        text-align: right;\n",
       "    }\n",
       "</style>\n",
       "<table border=\"1\" class=\"dataframe\">\n",
       "  <thead>\n",
       "    <tr style=\"text-align: right;\">\n",
       "      <th></th>\n",
       "      <th>start_time</th>\n",
       "      <th>lobby_type</th>\n",
       "      <th>r1_hero</th>\n",
       "      <th>r1_level</th>\n",
       "      <th>r1_xp</th>\n",
       "      <th>r1_gold</th>\n",
       "      <th>r1_lh</th>\n",
       "      <th>r1_kills</th>\n",
       "      <th>r1_deaths</th>\n",
       "      <th>r1_items</th>\n",
       "      <th>...</th>\n",
       "      <th>dire_boots_count</th>\n",
       "      <th>dire_ward_observer_count</th>\n",
       "      <th>dire_ward_sentry_count</th>\n",
       "      <th>dire_first_ward_time</th>\n",
       "      <th>duration</th>\n",
       "      <th>radiant_win</th>\n",
       "      <th>tower_status_radiant</th>\n",
       "      <th>tower_status_dire</th>\n",
       "      <th>barracks_status_radiant</th>\n",
       "      <th>barracks_status_dire</th>\n",
       "    </tr>\n",
       "    <tr>\n",
       "      <th>match_id</th>\n",
       "      <th></th>\n",
       "      <th></th>\n",
       "      <th></th>\n",
       "      <th></th>\n",
       "      <th></th>\n",
       "      <th></th>\n",
       "      <th></th>\n",
       "      <th></th>\n",
       "      <th></th>\n",
       "      <th></th>\n",
       "      <th></th>\n",
       "      <th></th>\n",
       "      <th></th>\n",
       "      <th></th>\n",
       "      <th></th>\n",
       "      <th></th>\n",
       "      <th></th>\n",
       "      <th></th>\n",
       "      <th></th>\n",
       "      <th></th>\n",
       "      <th></th>\n",
       "    </tr>\n",
       "  </thead>\n",
       "  <tbody>\n",
       "    <tr>\n",
       "      <th>0</th>\n",
       "      <td>1430198770</td>\n",
       "      <td>7</td>\n",
       "      <td>11</td>\n",
       "      <td>5</td>\n",
       "      <td>2098</td>\n",
       "      <td>1489</td>\n",
       "      <td>20</td>\n",
       "      <td>0</td>\n",
       "      <td>0</td>\n",
       "      <td>7</td>\n",
       "      <td>...</td>\n",
       "      <td>4</td>\n",
       "      <td>2</td>\n",
       "      <td>2</td>\n",
       "      <td>-52.0</td>\n",
       "      <td>2874</td>\n",
       "      <td>1</td>\n",
       "      <td>1796</td>\n",
       "      <td>0</td>\n",
       "      <td>51</td>\n",
       "      <td>0</td>\n",
       "    </tr>\n",
       "    <tr>\n",
       "      <th>1</th>\n",
       "      <td>1430220345</td>\n",
       "      <td>0</td>\n",
       "      <td>42</td>\n",
       "      <td>4</td>\n",
       "      <td>1188</td>\n",
       "      <td>1033</td>\n",
       "      <td>9</td>\n",
       "      <td>0</td>\n",
       "      <td>1</td>\n",
       "      <td>12</td>\n",
       "      <td>...</td>\n",
       "      <td>4</td>\n",
       "      <td>3</td>\n",
       "      <td>1</td>\n",
       "      <td>-5.0</td>\n",
       "      <td>2463</td>\n",
       "      <td>1</td>\n",
       "      <td>1974</td>\n",
       "      <td>0</td>\n",
       "      <td>63</td>\n",
       "      <td>1</td>\n",
       "    </tr>\n",
       "    <tr>\n",
       "      <th>2</th>\n",
       "      <td>1430227081</td>\n",
       "      <td>7</td>\n",
       "      <td>33</td>\n",
       "      <td>4</td>\n",
       "      <td>1319</td>\n",
       "      <td>1270</td>\n",
       "      <td>22</td>\n",
       "      <td>0</td>\n",
       "      <td>0</td>\n",
       "      <td>12</td>\n",
       "      <td>...</td>\n",
       "      <td>4</td>\n",
       "      <td>3</td>\n",
       "      <td>1</td>\n",
       "      <td>13.0</td>\n",
       "      <td>2130</td>\n",
       "      <td>0</td>\n",
       "      <td>0</td>\n",
       "      <td>1830</td>\n",
       "      <td>0</td>\n",
       "      <td>63</td>\n",
       "    </tr>\n",
       "    <tr>\n",
       "      <th>3</th>\n",
       "      <td>1430263531</td>\n",
       "      <td>1</td>\n",
       "      <td>29</td>\n",
       "      <td>4</td>\n",
       "      <td>1779</td>\n",
       "      <td>1056</td>\n",
       "      <td>14</td>\n",
       "      <td>0</td>\n",
       "      <td>0</td>\n",
       "      <td>5</td>\n",
       "      <td>...</td>\n",
       "      <td>4</td>\n",
       "      <td>2</td>\n",
       "      <td>0</td>\n",
       "      <td>27.0</td>\n",
       "      <td>1459</td>\n",
       "      <td>0</td>\n",
       "      <td>1920</td>\n",
       "      <td>2047</td>\n",
       "      <td>50</td>\n",
       "      <td>63</td>\n",
       "    </tr>\n",
       "    <tr>\n",
       "      <th>4</th>\n",
       "      <td>1430282290</td>\n",
       "      <td>7</td>\n",
       "      <td>13</td>\n",
       "      <td>4</td>\n",
       "      <td>1431</td>\n",
       "      <td>1090</td>\n",
       "      <td>8</td>\n",
       "      <td>1</td>\n",
       "      <td>0</td>\n",
       "      <td>8</td>\n",
       "      <td>...</td>\n",
       "      <td>3</td>\n",
       "      <td>3</td>\n",
       "      <td>0</td>\n",
       "      <td>-16.0</td>\n",
       "      <td>2449</td>\n",
       "      <td>0</td>\n",
       "      <td>4</td>\n",
       "      <td>1974</td>\n",
       "      <td>3</td>\n",
       "      <td>63</td>\n",
       "    </tr>\n",
       "  </tbody>\n",
       "</table>\n",
       "<p>5 rows × 108 columns</p>\n",
       "</div>"
      ],
      "text/plain": [
       "          start_time  lobby_type  r1_hero  r1_level  r1_xp  r1_gold  r1_lh  \\\n",
       "match_id                                                                     \n",
       "0         1430198770           7       11         5   2098     1489     20   \n",
       "1         1430220345           0       42         4   1188     1033      9   \n",
       "2         1430227081           7       33         4   1319     1270     22   \n",
       "3         1430263531           1       29         4   1779     1056     14   \n",
       "4         1430282290           7       13         4   1431     1090      8   \n",
       "\n",
       "          r1_kills  r1_deaths  r1_items          ...           \\\n",
       "match_id                                         ...            \n",
       "0                0          0         7          ...            \n",
       "1                0          1        12          ...            \n",
       "2                0          0        12          ...            \n",
       "3                0          0         5          ...            \n",
       "4                1          0         8          ...            \n",
       "\n",
       "          dire_boots_count  dire_ward_observer_count  dire_ward_sentry_count  \\\n",
       "match_id                                                                       \n",
       "0                        4                         2                       2   \n",
       "1                        4                         3                       1   \n",
       "2                        4                         3                       1   \n",
       "3                        4                         2                       0   \n",
       "4                        3                         3                       0   \n",
       "\n",
       "          dire_first_ward_time  duration  radiant_win  tower_status_radiant  \\\n",
       "match_id                                                                      \n",
       "0                        -52.0      2874            1                  1796   \n",
       "1                         -5.0      2463            1                  1974   \n",
       "2                         13.0      2130            0                     0   \n",
       "3                         27.0      1459            0                  1920   \n",
       "4                        -16.0      2449            0                     4   \n",
       "\n",
       "          tower_status_dire  barracks_status_radiant  barracks_status_dire  \n",
       "match_id                                                                    \n",
       "0                         0                       51                     0  \n",
       "1                         0                       63                     1  \n",
       "2                      1830                        0                    63  \n",
       "3                      2047                       50                    63  \n",
       "4                      1974                        3                    63  \n",
       "\n",
       "[5 rows x 108 columns]"
      ]
     },
     "execution_count": 4,
     "metadata": {},
     "output_type": "execute_result"
    }
   ],
   "source": [
    "data.head()"
   ]
  },
  {
   "cell_type": "markdown",
   "metadata": {},
   "source": [
    "## Первый этап"
   ]
  },
  {
   "cell_type": "code",
   "execution_count": 5,
   "metadata": {},
   "outputs": [],
   "source": [
    "# 1. Удалите признаки, связанные с итогами матча (кроме целевой переменной)\n",
    "data.drop(\n",
    "    [\n",
    "        'duration', \n",
    "        'tower_status_radiant',\n",
    "        'tower_status_dire',\n",
    "        'barracks_status_radiant',\n",
    "        'barracks_status_dire'\n",
    "    ],\n",
    "    axis=1,\n",
    "    inplace=True\n",
    ")"
   ]
  },
  {
   "cell_type": "code",
   "execution_count": 6,
   "metadata": {},
   "outputs": [
    {
     "name": "stdout",
     "output_type": "stream",
     "text": [
      "Список признаков с пропусками: \n",
      "\n",
      "first_blood_time\n",
      "first_blood_team\n",
      "first_blood_player1\n",
      "first_blood_player2\n",
      "radiant_bottle_time\n",
      "radiant_courier_time\n",
      "radiant_flying_courier_time\n",
      "radiant_first_ward_time\n",
      "dire_bottle_time\n",
      "dire_courier_time\n",
      "dire_flying_courier_time\n",
      "dire_first_ward_time\n"
     ]
    }
   ],
   "source": [
    "print('Список признаков с пропусками: \\n')\n",
    "print('\\n'.join(data.isna().sum()[data.isna().sum() > 0].index))"
   ]
  },
  {
   "cell_type": "code",
   "execution_count": 7,
   "metadata": {},
   "outputs": [],
   "source": [
    "# 2. first_blood_time - за первые 5 минут матча не было смертей\n",
    "# dire_courier_time - командой dire не был куплен курьер в первые 5 минут мачта"
   ]
  },
  {
   "cell_type": "code",
   "execution_count": 8,
   "metadata": {},
   "outputs": [],
   "source": [
    "# 3. Замените пропуски на нули с помощью функции fillna()\n",
    "\n",
    "data.fillna(0, inplace=True)"
   ]
  },
  {
   "cell_type": "code",
   "execution_count": 9,
   "metadata": {},
   "outputs": [
    {
     "name": "stdout",
     "output_type": "stream",
     "text": [
      "radiant_win\n"
     ]
    }
   ],
   "source": [
    "# 4. Какой столбец содержит целевую переменную? Запишите его название.\n",
    "print(data['radiant_win'].name)"
   ]
  },
  {
   "cell_type": "code",
   "execution_count": 10,
   "metadata": {},
   "outputs": [],
   "source": [
    "# Инициализируем валидацию\n",
    "skf = StratifiedKFold(n_splits=5, shuffle=True, random_state=42)\n",
    "X, y = data.drop('radiant_win', axis=1), data['radiant_win']"
   ]
  },
  {
   "cell_type": "code",
   "execution_count": 11,
   "metadata": {},
   "outputs": [
    {
     "data": {
      "application/vnd.jupyter.widget-view+json": {
       "model_id": "e820e7dcefbc41ae82c01f994c319131",
       "version_major": 2,
       "version_minor": 0
      },
      "text/plain": [
       "HBox(children=(IntProgress(value=0, max=7), HTML(value='')))"
      ]
     },
     "metadata": {},
     "output_type": "display_data"
    },
    {
     "name": "stdout",
     "output_type": "stream",
     "text": [
      "N_estimators: 3, Time: 0:00:09.747066, ROC-AUC Score: 0.6214102875829961\n",
      "N_estimators: 5, Time: 0:00:12.885285, ROC-AUC Score: 0.636750402328325\n",
      "N_estimators: 7, Time: 0:00:17.103258, ROC-AUC Score: 0.6519694672896523\n",
      "N_estimators: 10, Time: 0:00:22.891988, ROC-AUC Score: 0.6651016065955433\n",
      "N_estimators: 20, Time: 0:00:38.970110, ROC-AUC Score: 0.6819305682865897\n",
      "N_estimators: 30, Time: 0:00:57.965889, ROC-AUC Score: 0.6895533782400656\n",
      "N_estimators: 50, Time: 0:01:33.976482, ROC-AUC Score: 0.6972257958122468\n",
      "\n",
      "\n",
      "Best ROC-AUC SCORE on CV is 0.7 with 50 n_estimators\n"
     ]
    },
    {
     "data": {
      "text/plain": [
       "<matplotlib.legend.Legend at 0x1a1084c5c0>"
      ]
     },
     "execution_count": 11,
     "metadata": {},
     "output_type": "execute_result"
    },
    {
     "data": {
      "image/png": "[encoded data removed]",
      "text/plain": [
       "<Figure size 432x288 with 1 Axes>"
      ]
     },
     "metadata": {},
     "output_type": "display_data"
    }
   ],
   "source": [
    "# Инициализируем деление на фолды\n",
    "skf = StratifiedKFold(n_splits=5, shuffle=True, random_state=42)\n",
    "\n",
    "roc_auc_score_list = []\n",
    "n_estimators_grid = [3, 5, 7, 10, 20, 30, 50]\n",
    "\n",
    "for n_estimators in tqdm(n_estimators_grid):\n",
    "    model = GradientBoostingClassifier(n_estimators=n_estimators, random_state=241)\n",
    "    temp_y_pred = []\n",
    "    temp_y_test = []\n",
    "    start_time = datetime.datetime.now()\n",
    "    for train_index, test_index in skf.split(X, y):\n",
    "        X_train, X_test = X.iloc[train_index], X.iloc[test_index]\n",
    "        y_train, y_test = y.iloc[train_index], y.iloc[test_index]\n",
    "        model.fit(X_train, y_train)\n",
    "        temp_y_pred.extend(model.predict_proba(X_test)[:, 1])\n",
    "        temp_y_test.extend(y_test)\n",
    "    print('N_estimators: {0}, Time: {1}, ROC-AUC Score: {2}'.format(n_estimators, datetime.datetime.now() - start_time, roc_auc_score(y_true=temp_y_test, y_score=temp_y_pred)))\n",
    "    roc_auc_score_list.append(roc_auc_score(y_true=temp_y_test, y_score=temp_y_pred))\n",
    "    \n",
    "print(\"\\nBest ROC-AUC SCORE on CV is {0} with {1} n_estimators\".format(round(max(roc_auc_score_list), 2), \n",
    "                                                         n_estimators_grid[roc_auc_score_list.index(max(roc_auc_score_list))]))\n",
    "\n",
    "plt.figure()\n",
    "plt.plot(n_estimators_grid, roc_auc_score_list, 'g', linewidth=2)\n",
    "plt.ylabel('ROC-AUC SCORE')\n",
    "plt.xlabel('N estimators')\n",
    "plt.legend(['ROC-AUC SCORE'])"
   ]
  },
  {
   "cell_type": "markdown",
   "metadata": {},
   "source": [
    "## Отчет по первому этапу: \n",
    "1) Признаки с пропусками: \n",
    "first_blood_time  \n",
    "first_blood_team  \n",
    "first_blood_player1  \n",
    "first_blood_player2  \n",
    "radiant_bottle_time  \n",
    "radiant_courier_time  \n",
    "radiant_flying_courier_time  \n",
    "radiant_first_ward_time  \n",
    "dire_bottle_time  \n",
    "dire_courier_time  \n",
    "dire_flying_courier_time  \n",
    "dire_first_ward_time  \n",
    "Пропуски могут означать отсутвие соответствующего действия в первые 5 минут игры. \n",
    "  \n",
    "2) radiant_win  \n",
    "  \n",
    "3) Кросс-валидация с 30 деревьями проводилась 1 минуту. ROC-AUC Score = 0.69  \n",
    "  \n",
    "4) При увеличении числа деревьев точность по метрике AUC ROC растет, т.е имеет смысл еще увеличить кол-во деревьев. Для ускорения обучения можно попробовать использовать не всю выборку для обучения, а какую-то ее часть, также можно уменьшить глубину деревьев "
   ]
  },
  {
   "cell_type": "markdown",
   "metadata": {},
   "source": [
    "## Второй этап"
   ]
  },
  {
   "cell_type": "code",
   "execution_count": 25,
   "metadata": {},
   "outputs": [],
   "source": [
    "X, y = data.drop('radiant_win', axis=1), data['radiant_win']"
   ]
  },
  {
   "cell_type": "code",
   "execution_count": 26,
   "metadata": {},
   "outputs": [
    {
     "name": "stdout",
     "output_type": "stream",
     "text": [
      "--------- LogisticRegression ---------\n",
      "ROC AUC Score: 0.51\n",
      "CPU times: user 2.32 s, sys: 317 ms, total: 2.64 s\n",
      "Wall time: 1.9 s\n"
     ]
    }
   ],
   "source": [
    "%%time\n",
    "\n",
    "\n",
    "# Оценим качество классификации алгоритма Логистической Регрессии\n",
    "\n",
    "LR = LogisticRegression(penalty='l2')\n",
    "temp_y_pred = []\n",
    "temp_y_test = []\n",
    "for train_index, test_index in skf.split(X, y):\n",
    "        X_train, X_test = X.iloc[train_index], X.iloc[test_index]\n",
    "        y_train, y_test = y.iloc[train_index], y.iloc[test_index]\n",
    "        LR.fit(X_train, y_train)\n",
    "        temp_y_pred.extend(LR.predict_proba(X_test)[:, 1])\n",
    "        temp_y_test.extend(y_test)\n",
    "print('--------- LogisticRegression ---------')        \n",
    "print('ROC AUC Score: {0}'.format(round(roc_auc_score(y_true=temp_y_test, y_score=temp_y_pred), 2)))"
   ]
  },
  {
   "cell_type": "code",
   "execution_count": 27,
   "metadata": {},
   "outputs": [],
   "source": [
    "# Сделаем нормализацию данных\n",
    "\n",
    "scaler = StandardScaler()\n",
    "X_norm = scaler.fit_transform(X)"
   ]
  },
  {
   "cell_type": "code",
   "execution_count": 28,
   "metadata": {},
   "outputs": [
    {
     "name": "stdout",
     "output_type": "stream",
     "text": [
      "--------- LogisticRegression: StandardScaler ---------\n",
      "ROC AUC Score: 0.72\n",
      "CPU times: user 11.3 s, sys: 306 ms, total: 11.6 s\n",
      "Wall time: 10.9 s\n"
     ]
    }
   ],
   "source": [
    "%%time\n",
    "\n",
    "\n",
    "# Оценим качество классификации алгоритма Логистической Регрессии на нормализованных данных\n",
    "\n",
    "LR = LogisticRegression(penalty='l2')\n",
    "temp_y_pred = []\n",
    "temp_y_test = []\n",
    "for train_index, test_index in skf.split(X_norm, y):\n",
    "        X_train, X_test = X_norm[train_index], X_norm[test_index]\n",
    "        y_train, y_test = y.iloc[train_index], y.iloc[test_index]\n",
    "        LR.fit(X_train, y_train)\n",
    "        temp_y_pred.extend(LR.predict_proba(X_test)[:, 1])\n",
    "        temp_y_test.extend(y_test)\n",
    "print('--------- LogisticRegression: StandardScaler ---------')          \n",
    "print('ROC AUC Score: {0}'.format(round(roc_auc_score(y_true=temp_y_test, y_score=temp_y_pred), 2)))"
   ]
  },
  {
   "cell_type": "code",
   "execution_count": 62,
   "metadata": {},
   "outputs": [
    {
     "name": "stdout",
     "output_type": "stream",
     "text": [
      "d3_hero 0.0\n",
      " d3_kills 0.001\n",
      " r3_hero 0.003\n",
      " d1_hero 0.003\n",
      " lobby_type -0.003\n",
      " r4_hero 0.004\n",
      " r2_level -0.004\n",
      " d2_hero 0.005\n",
      " d5_kills 0.005\n",
      " r1_hero 0.005\n",
      " first_blood_team -0.005\n",
      " first_blood_time 0.006\n",
      " d5_hero 0.006\n",
      " r3_kills -0.006\n",
      " r4_level 0.008\n",
      " r3_level -0.008\n",
      " radiant_ward_observer_count -0.009\n",
      " radiant_ward_sentry_count -0.01\n",
      " first_blood_player1 0.01\n",
      " dire_boots_count -0.01\n",
      " d2_level 0.011\n",
      " d3_deaths 0.011\n",
      " d4_hero 0.012\n",
      " d1_level -0.012\n",
      " d2_deaths 0.012\n",
      " d4_kills 0.012\n",
      " dire_ward_sentry_count 0.012\n",
      " r1_deaths -0.013\n",
      " r3_deaths -0.014\n",
      " d4_deaths 0.015\n",
      " dire_flying_courier_time -0.015\n",
      " r4_kills -0.015\n",
      " r2_kills -0.015\n",
      " d3_level 0.016\n",
      " r5_hero -0.017\n",
      " dire_ward_observer_count 0.017\n",
      " r2_hero -0.018\n",
      " r1_kills -0.018\n",
      " d4_level -0.018\n",
      " d1_items -0.02\n",
      " d1_deaths 0.02\n",
      " r2_deaths -0.02\n",
      " r1_level -0.02\n",
      " r5_kills -0.021\n",
      " r5_deaths -0.022\n",
      " d2_kills 0.022\n",
      " dire_courier_time 0.022\n",
      " d5_level 0.023\n",
      " r4_deaths -0.023\n",
      " d1_kills 0.023\n",
      " r2_items 0.023\n",
      " d5_deaths 0.024\n",
      " r4_items 0.025\n",
      " radiant_bottle_time -0.026\n",
      " radiant_boots_count 0.029\n",
      " dire_bottle_time 0.029\n",
      " r1_items 0.031\n",
      " radiant_flying_courier_time 0.032\n",
      " radiant_courier_time -0.033\n",
      " d2_items -0.034\n",
      " dire_first_ward_time 0.034\n",
      " r5_level 0.035\n",
      " radiant_tpscroll_count -0.036\n",
      " d5_items -0.036\n",
      " r3_items 0.036\n",
      " d3_items -0.036\n",
      " dire_tpscroll_count 0.037\n",
      " d4_items -0.038\n",
      " radiant_first_ward_time -0.039\n",
      " first_blood_player2 -0.043\n",
      " d4_xp -0.047\n",
      " start_time 0.05\n",
      " r5_items 0.05\n",
      " r5_xp 0.051\n",
      " d1_xp -0.06\n",
      " r3_xp 0.064\n",
      " r2_xp 0.073\n",
      " r4_xp 0.08\n",
      " r1_xp 0.084\n",
      " d2_xp -0.089\n",
      " d3_xp -0.099\n",
      " d1_lh -0.105\n",
      " d5_xp -0.109\n",
      " r1_lh 0.112\n",
      " d2_lh -0.114\n",
      " d5_lh -0.115\n",
      " r5_lh 0.117\n",
      " d4_lh -0.12\n",
      " r2_lh 0.122\n",
      " r4_lh 0.132\n",
      " r3_lh 0.133\n",
      " d3_lh -0.135\n",
      " d3_gold -0.168\n",
      " r4_gold 0.189\n",
      " r3_gold 0.192\n",
      " d5_gold -0.2\n",
      " r5_gold 0.203\n",
      " d4_gold -0.21\n",
      " r2_gold 0.226\n",
      " r1_gold 0.227\n",
      " d2_gold -0.23\n",
      " d1_gold -0.232\n",
      "\n"
     ]
    }
   ],
   "source": [
    "# Посмотрим на веса признаков\n",
    "\n",
    "print(*list(map(lambda x: x[0] + ' ' + str(round(x[1], 3)) + '\\n', sorted(list(zip(X.columns.values, LR.coef_[0])), key=lambda x: math.fabs(x[1])))))"
   ]
  },
  {
   "cell_type": "markdown",
   "metadata": {},
   "source": [
    "Видно, что веса признаков с героями очень маленькие, т.е эти признаки не влияют на результат предсказания модели"
   ]
  },
  {
   "cell_type": "code",
   "execution_count": 63,
   "metadata": {},
   "outputs": [
    {
     "data": {
      "application/vnd.jupyter.widget-view+json": {
       "model_id": "927f3b5365fe4381a0604b4344fd3b8c",
       "version_major": 2,
       "version_minor": 0
      },
      "text/plain": [
       "HBox(children=(IntProgress(value=0, max=11), HTML(value='')))"
      ]
     },
     "metadata": {},
     "output_type": "display_data"
    },
    {
     "name": "stdout",
     "output_type": "stream",
     "text": [
      "C coef: 1e-05, Time: 0:00:02.568857, ROC-AUC Score: 0.6951191934948143\n",
      "C coef: 0.0001, Time: 0:00:04.071763, ROC-AUC Score: 0.7113190644586541\n",
      "C coef: 0.001, Time: 0:00:07.925152, ROC-AUC Score: 0.7163388853383528\n",
      "C coef: 0.01, Time: 0:00:10.528699, ROC-AUC Score: 0.7165589357576546\n",
      "C coef: 0.1, Time: 0:00:11.043707, ROC-AUC Score: 0.7165433094191984\n",
      "C coef: 1.0, Time: 0:00:11.073427, ROC-AUC Score: 0.7165401223766055\n",
      "C coef: 10.0, Time: 0:00:11.049449, ROC-AUC Score: 0.7165397224074208\n",
      "C coef: 100.0, Time: 0:00:11.062315, ROC-AUC Score: 0.716539653768641\n",
      "C coef: 1000.0, Time: 0:00:10.969239, ROC-AUC Score: 0.7165396469895025\n",
      "C coef: 10000.0, Time: 0:00:11.372914, ROC-AUC Score: 0.7165396503790719\n",
      "C coef: 100000.0, Time: 0:00:11.028179, ROC-AUC Score: 0.7165396508027679\n",
      "\n",
      "\n",
      "Best ROC-AUC SCORE on CV is 0.72 with 0.01 C coef\n"
     ]
    },
    {
     "data": {
      "text/plain": [
       "<matplotlib.legend.Legend at 0x1a10a77898>"
      ]
     },
     "execution_count": 63,
     "metadata": {},
     "output_type": "execute_result"
    },
    {
     "data": {
      "image/png": "[encoded data removed]",
      "text/plain": [
       "<Figure size 432x288 with 1 Axes>"
      ]
     },
     "metadata": {},
     "output_type": "display_data"
    }
   ],
   "source": [
    "# Подберем лучший параметр регуляризации\n",
    "\n",
    "skf = StratifiedKFold(n_splits=5, shuffle=True, random_state=42)\n",
    "\n",
    "roc_auc_score_list = []\n",
    "C_grid = np.power(10.0, np.arange(-5, 6))\n",
    "\n",
    "for C_coef in tqdm(C_grid):\n",
    "    model = LogisticRegression(penalty='l2', C=C_coef)\n",
    "    temp_y_pred = []\n",
    "    temp_y_test = []\n",
    "    start_time = datetime.datetime.now()\n",
    "    for train_index, test_index in skf.split(X_norm, y):\n",
    "        X_train, X_test = X_norm[train_index], X_norm[test_index]\n",
    "        y_train, y_test = y.iloc[train_index], y.iloc[test_index]\n",
    "        model.fit(X_train, y_train)\n",
    "        temp_y_pred.extend(model.predict_proba(X_test)[:, 1])\n",
    "        temp_y_test.extend(y_test)\n",
    "    print('C coef: {0}, Time: {1}, ROC-AUC Score: {2}'.format(C_coef, datetime.datetime.now() - start_time, roc_auc_score(y_true=temp_y_test, y_score=temp_y_pred)))\n",
    "    roc_auc_score_list.append(roc_auc_score(y_true=temp_y_test, y_score=temp_y_pred))\n",
    "    \n",
    "print(\"\\nBest ROC-AUC SCORE on CV is {0} with {1} C coef\".format(round(max(roc_auc_score_list), 2), \n",
    "                                                         C_grid[roc_auc_score_list.index(max(roc_auc_score_list))]))\n",
    "\n",
    "plt.figure()\n",
    "plt.plot(list(map(lambda x: math.log(x), C_grid)), roc_auc_score_list, 'g', linewidth=2)\n",
    "plt.ylabel('ROC-AUC SCORE')\n",
    "plt.xlabel('log(C) koef')\n",
    "plt.legend(['ROC-AUC SCORE'])"
   ]
  },
  {
   "cell_type": "code",
   "execution_count": 64,
   "metadata": {},
   "outputs": [],
   "source": [
    "# Уберем категориальные признаки\n",
    "\n",
    "categorial_features = [\n",
    "    'lobby_type',\n",
    "    'r1_hero',\n",
    "    'r2_hero',\n",
    "    'r3_hero',\n",
    "    'r4_hero',\n",
    "    'r5_hero',\n",
    "    'd1_hero',\n",
    "    'd2_hero',\n",
    "    'd3_hero',\n",
    "    'd4_hero',\n",
    "    'd5_hero'\n",
    "]\n",
    "\n",
    "X, y = data.drop(categorial_features + ['radiant_win'], axis=1), data['radiant_win']"
   ]
  },
  {
   "cell_type": "code",
   "execution_count": 65,
   "metadata": {},
   "outputs": [],
   "source": [
    "# Сделаем нормализацию данных\n",
    "\n",
    "scaler = StandardScaler()\n",
    "X_norm = scaler.fit_transform(X)"
   ]
  },
  {
   "cell_type": "code",
   "execution_count": 66,
   "metadata": {
    "scrolled": false
   },
   "outputs": [
    {
     "data": {
      "application/vnd.jupyter.widget-view+json": {
       "model_id": "67a653614c6d4eb3b2531388191e1ab1",
       "version_major": 2,
       "version_minor": 0
      },
      "text/plain": [
       "HBox(children=(IntProgress(value=0, max=11), HTML(value='')))"
      ]
     },
     "metadata": {},
     "output_type": "display_data"
    },
    {
     "name": "stdout",
     "output_type": "stream",
     "text": [
      "C coef: 1e-05, Time: 0:00:02.289618, ROC-AUC Score: 0.6950838174067728\n",
      "C coef: 0.0001, Time: 0:00:03.765710, ROC-AUC Score: 0.7113577025835107\n",
      "C coef: 0.001, Time: 0:00:07.241401, ROC-AUC Score: 0.7164414570968239\n",
      "C coef: 0.01, Time: 0:00:08.403509, ROC-AUC Score: 0.7166635332075161\n",
      "C coef: 0.1, Time: 0:00:09.367061, ROC-AUC Score: 0.7166470552397577\n",
      "C coef: 1.0, Time: 0:00:08.736859, ROC-AUC Score: 0.7166442304573905\n",
      "C coef: 10.0, Time: 0:00:08.857214, ROC-AUC Score: 0.7166438698919495\n",
      "C coef: 100.0, Time: 0:00:08.613931, ROC-AUC Score: 0.7166438906530618\n",
      "C coef: 1000.0, Time: 0:00:09.424418, ROC-AUC Score: 0.7166438978558968\n",
      "C coef: 10000.0, Time: 0:00:09.708692, ROC-AUC Score: 0.7166438978558967\n",
      "C coef: 100000.0, Time: 0:00:08.723266, ROC-AUC Score: 0.7166438991269852\n",
      "\n",
      "\n",
      "Best ROC-AUC SCORE on CV is 0.72 with 0.01 C coef\n"
     ]
    },
    {
     "data": {
      "text/plain": [
       "<matplotlib.legend.Legend at 0x108d52198>"
      ]
     },
     "execution_count": 66,
     "metadata": {},
     "output_type": "execute_result"
    },
    {
     "data": {
      "image/png": "[encoded data removed]",
      "text/plain": [
       "<Figure size 432x288 with 1 Axes>"
      ]
     },
     "metadata": {},
     "output_type": "display_data"
    }
   ],
   "source": [
    "# Подберем лучший параметр регуляризации для данных без категориальных переменных\n",
    "\n",
    "skf = StratifiedKFold(n_splits=5, shuffle=True, random_state=42)\n",
    "\n",
    "roc_auc_score_list = []\n",
    "C_grid = np.power(10.0, np.arange(-5, 6))\n",
    "\n",
    "for C_coef in tqdm(C_grid):\n",
    "    model = LogisticRegression(penalty='l2', C=C_coef)\n",
    "    temp_y_pred = []\n",
    "    temp_y_test = []\n",
    "    start_time = datetime.datetime.now()\n",
    "    for train_index, test_index in skf.split(X_norm, y):\n",
    "        X_train, X_test = X_norm[train_index], X_norm[test_index]\n",
    "        y_train, y_test = y.iloc[train_index], y.iloc[test_index]\n",
    "        model.fit(X_train, y_train)\n",
    "        temp_y_pred.extend(model.predict_proba(X_test)[:, 1])\n",
    "        temp_y_test.extend(y_test)\n",
    "    print('C coef: {0}, Time: {1}, ROC-AUC Score: {2}'.format(C_coef, datetime.datetime.now() - start_time, roc_auc_score(y_true=temp_y_test, y_score=temp_y_pred)))\n",
    "    roc_auc_score_list.append(roc_auc_score(y_true=temp_y_test, y_score=temp_y_pred))\n",
    "    \n",
    "print(\"\\nBest ROC-AUC SCORE on CV is {0} with {1} C coef\".format(round(max(roc_auc_score_list), 2), \n",
    "                                                         C_grid[roc_auc_score_list.index(max(roc_auc_score_list))]))\n",
    "\n",
    "plt.figure()\n",
    "plt.plot(list(map(lambda x: math.log(x), C_grid)), roc_auc_score_list, 'g', linewidth=2)\n",
    "plt.ylabel('ROC-AUC SCORE')\n",
    "plt.xlabel('log(C) koef')\n",
    "plt.legend(['ROC-AUC SCORE'])"
   ]
  },
  {
   "cell_type": "code",
   "execution_count": 67,
   "metadata": {},
   "outputs": [],
   "source": [
    "categorial_features.remove('lobby_type')"
   ]
  },
  {
   "cell_type": "code",
   "execution_count": 68,
   "metadata": {},
   "outputs": [],
   "source": [
    "w, d = data[categorial_features].shape"
   ]
  },
  {
   "cell_type": "code",
   "execution_count": 69,
   "metadata": {},
   "outputs": [],
   "source": [
    "Heroes_Set = set(np.reshape(data[categorial_features].values, w*d))"
   ]
  },
  {
   "cell_type": "code",
   "execution_count": 70,
   "metadata": {},
   "outputs": [
    {
     "name": "stdout",
     "output_type": "stream",
     "text": [
      "Кол-во героев: 112\n"
     ]
    }
   ],
   "source": [
    "print('Кол-во героев: {0}'.format(max(Heroes_Set)))"
   ]
  },
  {
   "cell_type": "code",
   "execution_count": 71,
   "metadata": {},
   "outputs": [],
   "source": [
    "# Сформируем мешок слов\n",
    "\n",
    "# N — количество различных героев в выборке\n",
    "X_pick = np.zeros((data.shape[0], max(Heroes_Set)))\n",
    "\n",
    "for i, match_id in enumerate(data.index):\n",
    "    for p in range(5):\n",
    "        X_pick[i, data.ix[match_id, 'r%d_hero' % (p+1)]-1] = 1\n",
    "        X_pick[i, data.ix[match_id, 'd%d_hero' % (p+1)]-1] = -1"
   ]
  },
  {
   "cell_type": "code",
   "execution_count": 72,
   "metadata": {},
   "outputs": [],
   "source": [
    "a = [list(x[0]) + list(x[1]) for x in zip(X_norm, X_pick)]"
   ]
  },
  {
   "cell_type": "code",
   "execution_count": 73,
   "metadata": {},
   "outputs": [],
   "source": [
    "b = np.reshape(a, (len(a), len(a[0])))"
   ]
  },
  {
   "cell_type": "code",
   "execution_count": 74,
   "metadata": {},
   "outputs": [
    {
     "data": {
      "application/vnd.jupyter.widget-view+json": {
       "model_id": "87884660076b40d3985131c085e5919a",
       "version_major": 2,
       "version_minor": 0
      },
      "text/plain": [
       "HBox(children=(IntProgress(value=0, max=11), HTML(value='')))"
      ]
     },
     "metadata": {},
     "output_type": "display_data"
    },
    {
     "name": "stdout",
     "output_type": "stream",
     "text": [
      "C coef: 1e-05, Time: 0:00:03.240220, ROC-AUC Score: 0.6991778913894389\n",
      "C coef: 0.0001, Time: 0:00:04.345076, ROC-AUC Score: 0.7250302152992091\n",
      "C coef: 0.001, Time: 0:00:08.646906, ROC-AUC Score: 0.7462835431106176\n",
      "C coef: 0.01, Time: 0:00:14.672089, ROC-AUC Score: 0.751776416103779\n",
      "C coef: 0.1, Time: 0:00:21.034734, ROC-AUC Score: 0.7519903182679539\n",
      "C coef: 1.0, Time: 0:00:21.284662, ROC-AUC Score: 0.751968596636392\n",
      "C coef: 10.0, Time: 0:00:21.651943, ROC-AUC Score: 0.7519658616776128\n",
      "C coef: 100.0, Time: 0:00:21.845375, ROC-AUC Score: 0.7519655299235115\n",
      "C coef: 1000.0, Time: 0:00:21.870190, ROC-AUC Score: 0.7519658277819192\n",
      "C coef: 10000.0, Time: 0:00:21.821848, ROC-AUC Score: 0.7519657960047066\n",
      "C coef: 100000.0, Time: 0:00:21.316975, ROC-AUC Score: 0.7519657710066325\n",
      "\n",
      "\n",
      "Best ROC-AUC SCORE on CV is 0.75 with 0.1 C coef\n"
     ]
    },
    {
     "data": {
      "text/plain": [
       "<matplotlib.legend.Legend at 0x1a659d69b0>"
      ]
     },
     "execution_count": 74,
     "metadata": {},
     "output_type": "execute_result"
    },
    {
     "data": {
      "image/png": "[encoded data removed]",
      "text/plain": [
       "<Figure size 432x288 with 1 Axes>"
      ]
     },
     "metadata": {},
     "output_type": "display_data"
    }
   ],
   "source": [
    "# Подберем лучший параметр регуляризации для данных без категориальных переменных\n",
    "\n",
    "skf = StratifiedKFold(n_splits=5, shuffle=True, random_state=42)\n",
    "\n",
    "roc_auc_score_list = []\n",
    "C_grid = np.power(10.0, np.arange(-5, 6))\n",
    "\n",
    "for C_coef in tqdm(C_grid):\n",
    "    model = LogisticRegression(penalty='l2', C=C_coef)\n",
    "    temp_y_pred = []\n",
    "    temp_y_test = []\n",
    "    start_time = datetime.datetime.now()\n",
    "    for train_index, test_index in skf.split(b, y):\n",
    "        X_train, X_test = b[train_index], b[test_index]\n",
    "        y_train, y_test = y.iloc[train_index], y.iloc[test_index]\n",
    "        model.fit(X_train, y_train)\n",
    "        temp_y_pred.extend(model.predict_proba(X_test)[:, 1])\n",
    "        temp_y_test.extend(y_test)\n",
    "    print('C coef: {0}, Time: {1}, ROC-AUC Score: {2}'.format(C_coef, datetime.datetime.now() - start_time, roc_auc_score(y_true=temp_y_test, y_score=temp_y_pred)))\n",
    "    roc_auc_score_list.append(roc_auc_score(y_true=temp_y_test, y_score=temp_y_pred))\n",
    "    \n",
    "print(\"\\nBest ROC-AUC SCORE on CV is {0} with {1} C coef\".format(round(max(roc_auc_score_list), 2), \n",
    "                                                         C_grid[roc_auc_score_list.index(max(roc_auc_score_list))]))\n",
    "\n",
    "plt.figure()\n",
    "plt.plot(list(map(lambda x: math.log(x), C_grid)), roc_auc_score_list, 'g', linewidth=2)\n",
    "plt.ylabel('ROC-AUC SCORE')\n",
    "plt.xlabel('log(C) koef')\n",
    "plt.legend(['ROC-AUC SCORE'])"
   ]
  },
  {
   "cell_type": "markdown",
   "metadata": {},
   "source": [
    "После добавления мека слов лучший скор показала Логистическая регрессия с параметром регуляризации 0.1. Увеличение точности roc-auc обусловлено добавлением признака героев, имеющего осмысленную интерпретацию"
   ]
  },
  {
   "cell_type": "markdown",
   "metadata": {},
   "source": [
    "## Обучим лучшую модель с полученными оптимальными параметрами"
   ]
  },
  {
   "cell_type": "code",
   "execution_count": 85,
   "metadata": {},
   "outputs": [
    {
     "name": "stdout",
     "output_type": "stream",
     "text": [
      "CPU times: user 5.32 s, sys: 165 ms, total: 5.49 s\n",
      "Wall time: 5.56 s\n"
     ]
    }
   ],
   "source": [
    "%%time\n",
    "\n",
    "model = LogisticRegression(penalty='l2', C=0.1)\n",
    "model.fit(b, y)"
   ]
  },
  {
   "cell_type": "code",
   "execution_count": 86,
   "metadata": {},
   "outputs": [],
   "source": [
    "data_test = pd.read_csv('features_test.csv', index_col='match_id')"
   ]
  },
  {
   "cell_type": "code",
   "execution_count": 87,
   "metadata": {},
   "outputs": [],
   "source": [
    "data_test.fillna(0, inplace=True)"
   ]
  },
  {
   "cell_type": "code",
   "execution_count": 88,
   "metadata": {},
   "outputs": [],
   "source": [
    "# Сформируем мешок слов\n",
    "\n",
    "# N — количество различных героев в выборке\n",
    "X_test_pick = np.zeros((data_test.shape[0], 112))\n",
    "\n",
    "for i, match_id in enumerate(data_test.index):\n",
    "    for p in range(5):\n",
    "        X_test_pick[i, data_test.ix[match_id, 'r%d_hero' % (p+1)]-1] = 1\n",
    "        X_test_pick[i, data_test.ix[match_id, 'd%d_hero' % (p+1)]-1] = -1"
   ]
  },
  {
   "cell_type": "code",
   "execution_count": 89,
   "metadata": {},
   "outputs": [],
   "source": [
    "categorial_features = [\n",
    "    'lobby_type',\n",
    "    'r1_hero',\n",
    "    'r2_hero',\n",
    "    'r3_hero',\n",
    "    'r4_hero',\n",
    "    'r5_hero',\n",
    "    'd1_hero',\n",
    "    'd2_hero',\n",
    "    'd3_hero',\n",
    "    'd4_hero',\n",
    "    'd5_hero'\n",
    "]\n",
    "\n",
    "X_test = data_test.drop(categorial_features, axis=1)"
   ]
  },
  {
   "cell_type": "code",
   "execution_count": 90,
   "metadata": {},
   "outputs": [],
   "source": [
    "# Сделаем нормализацию признаков\n",
    "\n",
    "X_norm_test = scaler.transform(X_test)"
   ]
  },
  {
   "cell_type": "code",
   "execution_count": 91,
   "metadata": {},
   "outputs": [],
   "source": [
    "a_test = [list(x[0]) + list(x[1]) for x in zip(X_norm_test, X_test_pick)]\n",
    "b_test = np.reshape(a_test, (len(a_test), len(a_test[0])))"
   ]
  },
  {
   "cell_type": "code",
   "execution_count": 95,
   "metadata": {},
   "outputs": [],
   "source": [
    "predict_list = model.predict_proba(b_test)[:, 1]"
   ]
  },
  {
   "cell_type": "code",
   "execution_count": 96,
   "metadata": {},
   "outputs": [
    {
     "name": "stdout",
     "output_type": "stream",
     "text": [
      "MIN PREDICT: 0.008429053297184168\n",
      "MAX PREDICT: 0.9963708933679206\n"
     ]
    }
   ],
   "source": [
    "print('MIN PREDICT: {0}'.format(min(predict_list)))\n",
    "print('MAX PREDICT: {0}'.format(max(predict_list)))"
   ]
  },
  {
   "cell_type": "markdown",
   "metadata": {},
   "source": [
    "## Отчет по второму этапу: \n",
    "1) Точность Логистической регрессии (roc-auc = 0.71) сравнима с Градиентным бустингом, но работает она заметно быстрее\n",
    "  \n",
    "2) Категориальные признаки в своем изначальном представлении вносят в модель шум. Без них модель показала такую же точность (0.72) как и с ними, это объясняется тем, что модель занулила признаки меред категориальными признаками\n",
    "  \n",
    "3)  В игре 112 различных героя\n",
    "\n",
    "4) При добавлении мешка слов по героям показатель roc-auc улучшился до 0.75, это объясняется использованием моделью правильно обработанной дополнительной информации\n",
    "\n",
    "5) Минимальное значение предсказания модели: 0.008\n",
    "    Максимальное значение предсказания модели: 0.99"
   ]
  },
  {
   "cell_type": "code",
   "execution_count": null,
   "metadata": {},
   "outputs": [],
   "source": []
  }
 ],
 "metadata": {
  "kernelspec": {
   "display_name": "Python 3",
   "language": "python",
   "name": "python3"
  },
  "language_info": {
   "codemirror_mode": {
    "name": "ipython",
    "version": 3
   },
   "file_extension": ".py",
   "mimetype": "text/x-python",
   "name": "python",
   "nbconvert_exporter": "python",
   "pygments_lexer": "ipython3",
   "version": "3.6.5"
  }
 },
 "nbformat": 4,
 "nbformat_minor": 2
}
