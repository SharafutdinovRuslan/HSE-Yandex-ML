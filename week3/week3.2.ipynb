{
 "cells": [
  {
   "cell_type": "code",
   "execution_count": 1,
   "metadata": {},
   "outputs": [],
   "source": [
    "import pandas as pd"
   ]
  },
  {
   "cell_type": "code",
   "execution_count": 4,
   "metadata": {},
   "outputs": [
    {
     "data": {
      "text/html": [
       "<div>\n",
       "<style scoped>\n",
       "    .dataframe tbody tr th:only-of-type {\n",
       "        vertical-align: middle;\n",
       "    }\n",
       "\n",
       "    .dataframe tbody tr th {\n",
       "        vertical-align: top;\n",
       "    }\n",
       "\n",
       "    .dataframe thead th {\n",
       "        text-align: right;\n",
       "    }\n",
       "</style>\n",
       "<table border=\"1\" class=\"dataframe\">\n",
       "  <thead>\n",
       "    <tr style=\"text-align: right;\">\n",
       "      <th></th>\n",
       "      <th>target</th>\n",
       "      <th>firstFeature</th>\n",
       "      <th>secondFeature</th>\n",
       "    </tr>\n",
       "  </thead>\n",
       "  <tbody>\n",
       "    <tr>\n",
       "      <th>0</th>\n",
       "      <td>-1</td>\n",
       "      <td>-0.663827</td>\n",
       "      <td>-0.138526</td>\n",
       "    </tr>\n",
       "    <tr>\n",
       "      <th>1</th>\n",
       "      <td>1</td>\n",
       "      <td>1.994596</td>\n",
       "      <td>2.468025</td>\n",
       "    </tr>\n",
       "    <tr>\n",
       "      <th>2</th>\n",
       "      <td>-1</td>\n",
       "      <td>-1.247395</td>\n",
       "      <td>0.749425</td>\n",
       "    </tr>\n",
       "    <tr>\n",
       "      <th>3</th>\n",
       "      <td>1</td>\n",
       "      <td>2.309374</td>\n",
       "      <td>1.899836</td>\n",
       "    </tr>\n",
       "    <tr>\n",
       "      <th>4</th>\n",
       "      <td>1</td>\n",
       "      <td>0.849143</td>\n",
       "      <td>2.407750</td>\n",
       "    </tr>\n",
       "  </tbody>\n",
       "</table>\n",
       "</div>"
      ],
      "text/plain": [
       "   target  firstFeature  secondFeature\n",
       "0      -1     -0.663827      -0.138526\n",
       "1       1      1.994596       2.468025\n",
       "2      -1     -1.247395       0.749425\n",
       "3       1      2.309374       1.899836\n",
       "4       1      0.849143       2.407750"
      ]
     },
     "execution_count": 4,
     "metadata": {},
     "output_type": "execute_result"
    }
   ],
   "source": [
    "LogisticData = pd.read_csv('data-logistic.csv', names=['target', 'firstFeature', 'secondFeature'])\n",
    "Y = LogisticData['target']\n",
    "X = LogisticData.drop('target', axis=1)\n",
    "LogisticData.head()"
   ]
  },
  {
   "cell_type": "code",
   "execution_count": 9,
   "metadata": {},
   "outputs": [
    {
     "data": {
      "text/plain": [
       "0       0.663827\n",
       "1       1.994596\n",
       "2       1.247395\n",
       "3       2.309374\n",
       "4       0.849143\n",
       "5       1.454271\n",
       "6       2.254227\n",
       "7       0.067580\n",
       "8       0.861961\n",
       "9       0.699179\n",
       "10      0.161480\n",
       "11      0.147102\n",
       "12     -0.080296\n",
       "13     -1.720655\n",
       "14      1.573958\n",
       "15     -1.168445\n",
       "16      0.066627\n",
       "17      1.163355\n",
       "18      2.096970\n",
       "19      3.035705\n",
       "20     -0.831852\n",
       "21    -12.977800\n",
       "22      0.842603\n",
       "23      0.473537\n",
       "24     -1.540373\n",
       "25     -0.495341\n",
       "26      2.091486\n",
       "27      2.937055\n",
       "28      0.501667\n",
       "29     -0.830207\n",
       "         ...    \n",
       "175     0.212184\n",
       "176     0.239311\n",
       "177     1.828638\n",
       "178    -0.277534\n",
       "179     2.586595\n",
       "180     2.022412\n",
       "181     0.208457\n",
       "182     2.450550\n",
       "183    -0.725817\n",
       "184     1.049660\n",
       "185    -0.320265\n",
       "186    -2.138777\n",
       "187     0.963075\n",
       "188     0.405415\n",
       "189     0.539427\n",
       "190     4.465992\n",
       "191     3.255261\n",
       "192     0.371662\n",
       "193     0.726214\n",
       "194     2.167982\n",
       "195     2.146766\n",
       "196    -0.660296\n",
       "197     2.311044\n",
       "198     3.010920\n",
       "199     1.033668\n",
       "200     4.245176\n",
       "201     2.437935\n",
       "202     1.876638\n",
       "203    -6.824446\n",
       "204    -0.001805\n",
       "Length: 205, dtype: float64"
      ]
     },
     "execution_count": 9,
     "metadata": {},
     "output_type": "execute_result"
    }
   ],
   "source": [
    "from math import exp\n",
    "X['firstFeature'] * Y * (1 - )"
   ]
  },
  {
   "cell_type": "code",
   "execution_count": 8,
   "metadata": {},
   "outputs": [
    {
     "ename": "SyntaxError",
     "evalue": "invalid syntax (<ipython-input-8-efcc6b2b2cb3>, line 8)",
     "output_type": "error",
     "traceback": [
      "\u001b[0;36m  File \u001b[0;32m\"<ipython-input-8-efcc6b2b2cb3>\"\u001b[0;36m, line \u001b[0;32m8\u001b[0m\n\u001b[0;31m    w1_new =\u001b[0m\n\u001b[0m             ^\u001b[0m\n\u001b[0;31mSyntaxError\u001b[0m\u001b[0;31m:\u001b[0m invalid syntax\n"
     ]
    }
   ],
   "source": [
    "# Градиентный спуск\n",
    "from math import exp\n",
    "\n",
    "def GradientDescent(k=0.1, X, Y):\n",
    "    w1, w2 = (0, 0)\n",
    "    eps = 1e-5\n",
    "    n = 0\n",
    "    w1_new = \n",
    "    while abs(w1_new - w1) > eps & abs(w2_new - w2) > eps:\n",
    "        \n",
    "    \n",
    "    "
   ]
  },
  {
   "cell_type": "code",
   "execution_count": null,
   "metadata": {},
   "outputs": [],
   "source": [
    " "
   ]
  }
 ],
 "metadata": {
  "kernelspec": {
   "display_name": "Python 3",
   "language": "python",
   "name": "python3"
  },
  "language_info": {
   "codemirror_mode": {
    "name": "ipython",
    "version": 3
   },
   "file_extension": ".py",
   "mimetype": "text/x-python",
   "name": "python",
   "nbconvert_exporter": "python",
   "pygments_lexer": "ipython3",
   "version": "3.6.5"
  }
 },
 "nbformat": 4,
 "nbformat_minor": 2
}
