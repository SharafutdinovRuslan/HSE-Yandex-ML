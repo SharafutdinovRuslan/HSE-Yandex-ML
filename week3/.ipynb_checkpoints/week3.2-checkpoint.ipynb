{
 "cells": [
  {
   "cell_type": "code",
   "execution_count": 357,
   "metadata": {},
   "outputs": [],
   "source": [
    "import pandas as pd\n",
    "import numpy as np\n",
    "from numpy import linalg\n",
    "from math import inf, sqrt\n",
    "import time\n",
    "  "
   ]
  },
  {
   "cell_type": "code",
   "execution_count": 358,
   "metadata": {
    "scrolled": true
   },
   "outputs": [
    {
     "data": {
      "text/html": [
       "<div>\n",
       "<style scoped>\n",
       "    .dataframe tbody tr th:only-of-type {\n",
       "        vertical-align: middle;\n",
       "    }\n",
       "\n",
       "    .dataframe tbody tr th {\n",
       "        vertical-align: top;\n",
       "    }\n",
       "\n",
       "    .dataframe thead th {\n",
       "        text-align: right;\n",
       "    }\n",
       "</style>\n",
       "<table border=\"1\" class=\"dataframe\">\n",
       "  <thead>\n",
       "    <tr style=\"text-align: right;\">\n",
       "      <th></th>\n",
       "      <th>target</th>\n",
       "      <th>firstFeature</th>\n",
       "      <th>secondFeature</th>\n",
       "    </tr>\n",
       "  </thead>\n",
       "  <tbody>\n",
       "    <tr>\n",
       "      <th>0</th>\n",
       "      <td>-1</td>\n",
       "      <td>-0.663827</td>\n",
       "      <td>-0.138526</td>\n",
       "    </tr>\n",
       "    <tr>\n",
       "      <th>1</th>\n",
       "      <td>1</td>\n",
       "      <td>1.994596</td>\n",
       "      <td>2.468025</td>\n",
       "    </tr>\n",
       "    <tr>\n",
       "      <th>2</th>\n",
       "      <td>-1</td>\n",
       "      <td>-1.247395</td>\n",
       "      <td>0.749425</td>\n",
       "    </tr>\n",
       "    <tr>\n",
       "      <th>3</th>\n",
       "      <td>1</td>\n",
       "      <td>2.309374</td>\n",
       "      <td>1.899836</td>\n",
       "    </tr>\n",
       "    <tr>\n",
       "      <th>4</th>\n",
       "      <td>1</td>\n",
       "      <td>0.849143</td>\n",
       "      <td>2.407750</td>\n",
       "    </tr>\n",
       "  </tbody>\n",
       "</table>\n",
       "</div>"
      ],
      "text/plain": [
       "   target  firstFeature  secondFeature\n",
       "0      -1     -0.663827      -0.138526\n",
       "1       1      1.994596       2.468025\n",
       "2      -1     -1.247395       0.749425\n",
       "3       1      2.309374       1.899836\n",
       "4       1      0.849143       2.407750"
      ]
     },
     "execution_count": 358,
     "metadata": {},
     "output_type": "execute_result"
    }
   ],
   "source": [
    "Data = pd.read_csv('data-logistic.csv', names=['target', 'firstFeature', 'secondFeature'])\n",
    "Y = Data['target']\n",
    "X = Data.drop('target', axis=1)\n",
    "Data.head()"
   ]
  },
  {
   "cell_type": "code",
   "execution_count": 367,
   "metadata": {},
   "outputs": [],
   "source": [
    "def w1_function(w1, w2, k, C, X, Y):\n",
    "    L = Y.size\n",
    "    b = list(map(lambda x: 1.0 - (1.0/(1.0 + np.exp(-x, dtype=np.float128))), Y * (X['firstFeature']*w1 + X['secondFeature']*w2)))\n",
    "    return w1 + (k*(1.0/L))*sum(Y*X['firstFeature']*b) - k*C*w1\n",
    "\n",
    "\n",
    "def w2_function(w1, w2, k, C, X, Y):\n",
    "    L = Y.size\n",
    "    b = list(map(lambda x: 1.0 - (1.0/(1.0 + np.exp(-x, dtype=np.float128))), Y * (X['firstFeature']*w1 + X['secondFeature']*w2)))\n",
    "    return w2 + (k*(1.0/L))*sum(Y*X['secondFeature']*b) - k*C*w2\n"
   ]
  },
  {
   "cell_type": "code",
   "execution_count": 368,
   "metadata": {},
   "outputs": [],
   "source": [
    "# Градиентный спуск\n",
    "\n",
    "def grad(k, X, Y, w1=0., w2=0., eps=1e-5, C=0.0, max_iterations=10000):\n",
    "    w1_new = w1_function(w1, w2, k=k, C=C, X=X, Y=Y)\n",
    "    w2_new = w2_function(w1, w2, k=k, C=C, X=X, Y=Y)\n",
    "    i = 1\n",
    "    while sqrt((w2_new - w2)**2 + (w1_new - w1)**2) > eps and i <= max_iterations:\n",
    "        w1_temp = w1_new\n",
    "        w2_temp = w2_new\n",
    "        w1_new = w1_function(w1_new, w2_new, k=k, C=C, X=X, Y=Y)\n",
    "        w2_new = w2_function(w1_new, w2_new, k=k, C=C, X=X, Y=Y)\n",
    "        w1 = w1_temp\n",
    "        w2 = w2_temp\n",
    "        i += 1\n",
    "    return [w1_new, w2_new] "
   ]
  },
  {
   "cell_type": "code",
   "execution_count": 369,
   "metadata": {},
   "outputs": [
    {
     "name": "stdout",
     "output_type": "stream",
     "text": [
      "CPU times: user 586 ms, sys: 13.5 ms, total: 599 ms\n",
      "Wall time: 587 ms\n"
     ]
    }
   ],
   "source": [
    "%%time\n",
    "output_list_l2_reg = grad(k=0.1, C=10., X=X, Y=Y)\n",
    "output_list_simple = grad(k=0.1, C=0., X=X, Y=Y)"
   ]
  },
  {
   "cell_type": "code",
   "execution_count": 370,
   "metadata": {},
   "outputs": [
    {
     "data": {
      "text/plain": [
       "[0.028559638503823442385, 0.024780841099558656517]"
      ]
     },
     "execution_count": 370,
     "metadata": {},
     "output_type": "execute_result"
    }
   ],
   "source": [
    "output_list_l2_reg"
   ]
  },
  {
   "cell_type": "code",
   "execution_count": 371,
   "metadata": {},
   "outputs": [
    {
     "data": {
      "text/plain": [
       "[0.28781531452416753215, 0.09197633380934426815]"
      ]
     },
     "execution_count": 371,
     "metadata": {},
     "output_type": "execute_result"
    }
   ],
   "source": [
    " output_list_simple"
   ]
  },
  {
   "cell_type": "code",
   "execution_count": 372,
   "metadata": {},
   "outputs": [],
   "source": [
    "from sklearn.metrics import roc_auc_score\n",
    "\n",
    "\n",
    "def a(w1, w2, X):\n",
    "    return 1./(1. + np.exp(- w1*X['firstFeature'] - w2*X['secondFeature'], dtype=np.float128))"
   ]
  },
  {
   "cell_type": "code",
   "execution_count": 373,
   "metadata": {},
   "outputs": [],
   "source": [
    "y_res_l2 = a(output_list_l2_reg[0], output_list_l2_reg[1], X)\n",
    "y_res_no_l2 = a(output_list_simple[0], output_list_simple[1], X)"
   ]
  },
  {
   "cell_type": "code",
   "execution_count": 374,
   "metadata": {},
   "outputs": [],
   "source": [
    "auc = roc_auc_score(Y, y_res_no_l2)\n",
    "rauc = roc_auc_score(Y, y_res_l2)\n",
    "\n",
    "# Запись ответа\n",
    "output1 = open('week3.2_qw.txt', 'w')\n",
    "print(\n",
    "    ' '.join(map(lambda x: str(round(x, 3)), [auc, rauc])),\n",
    "    file=output1, \n",
    "    end=''\n",
    ")\n",
    "output1.close()"
   ]
  },
  {
   "cell_type": "code",
   "execution_count": null,
   "metadata": {},
   "outputs": [],
   "source": []
  }
 ],
 "metadata": {
  "kernelspec": {
   "display_name": "Python 3",
   "language": "python",
   "name": "python3"
  },
  "language_info": {
   "codemirror_mode": {
    "name": "ipython",
    "version": 3
   },
   "file_extension": ".py",
   "mimetype": "text/x-python",
   "name": "python",
   "nbconvert_exporter": "python",
   "pygments_lexer": "ipython3",
   "version": "3.6.5"
  }
 },
 "nbformat": 4,
 "nbformat_minor": 2
}
