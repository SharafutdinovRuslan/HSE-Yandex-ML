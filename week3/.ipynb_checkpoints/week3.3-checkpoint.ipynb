{
 "cells": [
  {
   "cell_type": "code",
   "execution_count": 42,
   "metadata": {},
   "outputs": [],
   "source": [
    "import pandas as pd\n",
    "import numpy as np"
   ]
  },
  {
   "cell_type": "code",
   "execution_count": 5,
   "metadata": {},
   "outputs": [],
   "source": [
    "classification = pd.read_csv('classification.csv')\n",
    "scores = pd.read_csv('scores.csv')"
   ]
  },
  {
   "cell_type": "code",
   "execution_count": 80,
   "metadata": {},
   "outputs": [
    {
     "name": "stdout",
     "output_type": "stream",
     "text": [
      "TP =  43\n",
      "FP =  34\n",
      "TN =  64\n",
      "FN =  59\n"
     ]
    }
   ],
   "source": [
    "# Заполните таблицу ошибок классификации\n",
    "TP = classification[(classification.true == 1) & (classification.pred == 1)].shape[0]\n",
    "FP = classification[(classification.true == 0) & (classification.pred == 1)].shape[0]\n",
    "TN = classification[(classification.true == 0) & (classification.pred == 0)].shape[0]\n",
    "FN = classification[(classification.true == 1) & (classification.pred == 0)].shape[0]\n",
    "\n",
    "print('TP = ', TP)\n",
    "print('FP = ', FP)\n",
    "print('TN = ', TN)\n",
    "print('FN = ', FN)\n",
    "\n",
    "# Запись ответа\n",
    "output1 = open('week3.3_qw1.txt', 'w')\n",
    "print(\n",
    "    ' '.join(map(lambda x: str(round(x, 2)), [TP, FP, FN, TN])),\n",
    "    file=output1, \n",
    "    end=''\n",
    ")\n",
    "output1.close()"
   ]
  },
  {
   "cell_type": "code",
   "execution_count": 64,
   "metadata": {},
   "outputs": [
    {
     "name": "stdout",
     "output_type": "stream",
     "text": [
      "accuracy =  0.535 0.535\n",
      "precision =  0.5584415584415584 0.5584415584415584\n",
      "recall =  0.4215686274509804 0.4215686274509804\n",
      "f1 =  0.48044692737430167 0.48044692737430167\n"
     ]
    }
   ],
   "source": [
    "# Посчитайте основные метрики качества классификатора\n",
    "from sklearn.metrics import accuracy_score, precision_score, recall_score, f1_score\n",
    "\n",
    "accuracy = accuracy_score(y_true = classification.true, y_pred=classification.pred)\n",
    "precision = precision_score(y_true = classification.true, y_pred=classification.pred)\n",
    "recall = recall_score(y_true = classification.true, y_pred=classification.pred)\n",
    "f1 = f1_score(y_true = classification.true, y_pred=classification.pred)\n",
    "\n",
    "print('accuracy = ', accuracy, (TP + TN)/(TP + FP + TN + FN))\n",
    "print('precision = ', precision, TP/(TP + FP))\n",
    "print('recall = ', recall, TP/(TP + FN))\n",
    "print('f1 = ', f1, 2*precision*recall/(precision + recall))\n",
    "\n",
    "# Запись ответа\n",
    "output1 = open('week3.3_qw2.txt', 'w')\n",
    "print(\n",
    "    ' '.join(map(lambda x: str(round(x, 2)), [accuracy, precision, recall, f1])),\n",
    "    file=output1, \n",
    "    end=''\n",
    ")\n",
    "output1.close()"
   ]
  },
  {
   "cell_type": "code",
   "execution_count": 71,
   "metadata": {},
   "outputs": [
    {
     "name": "stdout",
     "output_type": "stream",
     "text": [
      "score_logreg =  0.72\n",
      "score_svm =  0.71\n",
      "score_knn =  0.64\n",
      "score_tree =  0.69\n"
     ]
    }
   ],
   "source": [
    "# Посчитайте площадь под ROC-кривой для каждого классификатора\n",
    "temp_list = {}\n",
    "\n",
    "for model in scores.columns[1:]:\n",
    "    score = roc_auc_score(y_true=scores.true, y_score=scores[model])\n",
    "    temp_list[model] = round(score, 2)\n",
    "    print(model, '= ', round(score, 2))\n",
    "    \n",
    "# Запись ответа\n",
    "output1 = open('week3.3_qw3.txt', 'w')\n",
    "print(\n",
    "    str(max(temp_list, key=temp_list.get)),\n",
    "    file=output1, \n",
    "    end=''\n",
    ")\n",
    "output1.close()"
   ]
  },
  {
   "cell_type": "code",
   "execution_count": 72,
   "metadata": {},
   "outputs": [
    {
     "name": "stdout",
     "output_type": "stream",
     "text": [
      "score_logreg =  0.6302521008403361\n",
      "score_svm =  0.6228070175438597\n",
      "score_knn =  0.6065573770491803\n",
      "score_tree =  0.6517857142857143\n"
     ]
    }
   ],
   "source": [
    "# Какой классификатор достигает наибольшей точности (Precision) при полноте (Recall) не менее 70% ?\n",
    "from sklearn.metrics import precision_recall_curve\n",
    "\n",
    "precision, recall, _ = precision_recall_curve(y_true=scores.true, probas_pred=scores.score_logreg)\n",
    "\n",
    "temp_list = {}\n",
    "\n",
    "for model in scores.columns[1:]:\n",
    "    precision, recall, _ = precision_recall_curve(y_true=scores.true, probas_pred=scores[model])\n",
    "    a = max(list(map(lambda x: x[0], list(filter(lambda x: x[1] >= 0.7, list(zip(precision, recall)))))))\n",
    "    temp_list[model] = round(a, 2)\n",
    "    print(model, '= ', a)\n",
    "    \n",
    "# Запись ответа\n",
    "output1 = open('week3.3_qw4.txt', 'w')\n",
    "print(\n",
    "    str(max(temp_list, key=temp_list.get)),\n",
    "    file=output1, \n",
    "    end=''\n",
    ")\n",
    "output1.close()"
   ]
  },
  {
   "cell_type": "code",
   "execution_count": null,
   "metadata": {},
   "outputs": [],
   "source": []
  }
 ],
 "metadata": {
  "kernelspec": {
   "display_name": "Python 3",
   "language": "python",
   "name": "python3"
  },
  "language_info": {
   "codemirror_mode": {
    "name": "ipython",
    "version": 3
   },
   "file_extension": ".py",
   "mimetype": "text/x-python",
   "name": "python",
   "nbconvert_exporter": "python",
   "pygments_lexer": "ipython3",
   "version": "3.6.5"
  }
 },
 "nbformat": 4,
 "nbformat_minor": 2
}
