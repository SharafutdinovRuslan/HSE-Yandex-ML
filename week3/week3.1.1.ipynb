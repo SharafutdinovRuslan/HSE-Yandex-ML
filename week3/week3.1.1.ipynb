{
 "cells": [
  {
   "cell_type": "code",
   "execution_count": 36,
   "metadata": {},
   "outputs": [],
   "source": [
    "import pandas as pd\n",
    "from sklearn.svm import SVCr\n"
   ]
  },
  {
   "cell_type": "code",
   "execution_count": 37,
   "metadata": {},
   "outputs": [],
   "source": [
    "Train = pd.read_csv('svm-data.csv', names=['target', 'firstFeature', 'secondFeature'])\n",
    "y_train = Train['target']\n",
    "X_train = Train.drop('target', axis=1)"
   ]
  },
  {
   "cell_type": "code",
   "execution_count": 38,
   "metadata": {},
   "outputs": [
    {
     "name": "stdout",
     "output_type": "stream",
     "text": [
      "Номера опорных элементов : 4 5 10\n"
     ]
    }
   ],
   "source": [
    "SVC = SVC(C=100000, random_state=241)\n",
    "outSupportVectorsNumbersList = sorted(list(SVC.fit(X=X_train, y=y_train).support_))\n",
    "print('Номера опорных элементов :', *map(lambda x: int(x) + 1, outSupportVectorsNumbersList))"
   ]
  },
  {
   "cell_type": "code",
   "execution_count": 40,
   "metadata": {},
   "outputs": [],
   "source": [
    "# Запись ответа\n",
    "output1 = open('week3.1_1qw.txt', 'w')\n",
    "print(\n",
    "    ' '.join(map(lambda x: str(int(x) + 1), outSupportVectorsNumbersList)),\n",
    "    file=output1, \n",
    "    end=''\n",
    ")\n",
    "output1.close()"
   ]
  },
  {
   "cell_type": "code",
   "execution_count": null,
   "metadata": {},
   "outputs": [],
   "source": []
  }
 ],
 "metadata": {
  "kernelspec": {
   "display_name": "Python 3",
   "language": "python",
   "name": "python3"
  },
  "language_info": {
   "codemirror_mode": {
    "name": "ipython",
    "version": 3
   },
   "file_extension": ".py",
   "mimetype": "text/x-python",
   "name": "python",
   "nbconvert_exporter": "python",
   "pygments_lexer": "ipython3",
   "version": "3.6.5"
  }
 },
 "nbformat": 4,
 "nbformat_minor": 2
}
